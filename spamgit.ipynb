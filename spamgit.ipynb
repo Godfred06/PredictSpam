{
 "cells": [
  {
   "cell_type": "code",
   "execution_count": 2,
   "metadata": {},
   "outputs": [
    {
     "data": {
      "text/html": [
       "<div>\n",
       "<style scoped>\n",
       "    .dataframe tbody tr th:only-of-type {\n",
       "        vertical-align: middle;\n",
       "    }\n",
       "\n",
       "    .dataframe tbody tr th {\n",
       "        vertical-align: top;\n",
       "    }\n",
       "\n",
       "    .dataframe thead th {\n",
       "        text-align: right;\n",
       "    }\n",
       "</style>\n",
       "<table border=\"1\" class=\"dataframe\">\n",
       "  <thead>\n",
       "    <tr style=\"text-align: right;\">\n",
       "      <th></th>\n",
       "      <th>text</th>\n",
       "      <th>target</th>\n",
       "    </tr>\n",
       "  </thead>\n",
       "  <tbody>\n",
       "    <tr>\n",
       "      <th>0</th>\n",
       "      <td>Go until jurong point, crazy.. Available only ...</td>\n",
       "      <td>0</td>\n",
       "    </tr>\n",
       "    <tr>\n",
       "      <th>1</th>\n",
       "      <td>Ok lar... Joking wif u oni...</td>\n",
       "      <td>0</td>\n",
       "    </tr>\n",
       "    <tr>\n",
       "      <th>2</th>\n",
       "      <td>Free entry in 2 a wkly comp to win FA Cup fina...</td>\n",
       "      <td>1</td>\n",
       "    </tr>\n",
       "    <tr>\n",
       "      <th>3</th>\n",
       "      <td>U dun say so early hor... U c already then say...</td>\n",
       "      <td>0</td>\n",
       "    </tr>\n",
       "    <tr>\n",
       "      <th>4</th>\n",
       "      <td>Nah I don't think he goes to usf, he lives aro...</td>\n",
       "      <td>0</td>\n",
       "    </tr>\n",
       "    <tr>\n",
       "      <th>5</th>\n",
       "      <td>FreeMsg Hey there darling it's been 3 week's n...</td>\n",
       "      <td>1</td>\n",
       "    </tr>\n",
       "    <tr>\n",
       "      <th>6</th>\n",
       "      <td>Even my brother is not like to speak with me. ...</td>\n",
       "      <td>0</td>\n",
       "    </tr>\n",
       "    <tr>\n",
       "      <th>7</th>\n",
       "      <td>As per your request 'Melle Melle (Oru Minnamin...</td>\n",
       "      <td>0</td>\n",
       "    </tr>\n",
       "    <tr>\n",
       "      <th>8</th>\n",
       "      <td>WINNER!! As a valued network customer you have...</td>\n",
       "      <td>1</td>\n",
       "    </tr>\n",
       "    <tr>\n",
       "      <th>9</th>\n",
       "      <td>Had your mobile 11 months or more? U R entitle...</td>\n",
       "      <td>1</td>\n",
       "    </tr>\n",
       "  </tbody>\n",
       "</table>\n",
       "</div>"
      ],
      "text/plain": [
       "                                                text  target\n",
       "0  Go until jurong point, crazy.. Available only ...       0\n",
       "1                      Ok lar... Joking wif u oni...       0\n",
       "2  Free entry in 2 a wkly comp to win FA Cup fina...       1\n",
       "3  U dun say so early hor... U c already then say...       0\n",
       "4  Nah I don't think he goes to usf, he lives aro...       0\n",
       "5  FreeMsg Hey there darling it's been 3 week's n...       1\n",
       "6  Even my brother is not like to speak with me. ...       0\n",
       "7  As per your request 'Melle Melle (Oru Minnamin...       0\n",
       "8  WINNER!! As a valued network customer you have...       1\n",
       "9  Had your mobile 11 months or more? U R entitle...       1"
      ]
     },
     "execution_count": 2,
     "metadata": {},
     "output_type": "execute_result"
    }
   ],
   "source": [
    "import pandas as pd\n",
    "import numpy as np\n",
    "from sklearn.model_selection import train_test_split\n",
    "import re\n",
    "from sklearn.linear_model import LogisticRegression\n",
    "from sklearn.feature_extraction.text import CountVectorizer\n",
    "from sklearn.metrics import roc_auc_score\n",
    "\n",
    "spam_data = pd.read_csv('spam.csv')\n",
    "\n",
    "\n",
    "spam_data['target'] = np.where(spam_data['target']=='spam',1,0)\n",
    "spam_data.head(10)"
   ]
  },
  {
   "cell_type": "code",
   "execution_count": 3,
   "metadata": {},
   "outputs": [],
   "source": [
    "\n",
    "\n",
    "\n",
    "X_train, X_test, y_train, y_test = train_test_split(spam_data['text'], \n",
    "                                                    spam_data['target'], \n",
    "                                                    random_state=0)\n",
    "                                                    "
   ]
  },
  {
   "cell_type": "markdown",
   "metadata": {},
   "source": [
    "Defining the neccessary functions needed "
   ]
  },
  {
   "cell_type": "code",
   "execution_count": 4,
   "metadata": {},
   "outputs": [],
   "source": [
    "def add_feature(X, feature_to_add):\n",
    "    \"\"\"\n",
    "    Returns sparse feature matrix with added feature.\n",
    "    feature_to_add can also be a list of features.\n",
    "    \"\"\"\n",
    "    # I think this function takes a list of features(words) and then adds them to the columns to be used for the vectorization and matrix thing\n",
    "    from scipy.sparse import csr_matrix, hstack\n",
    "    return hstack([X, csr_matrix(feature_to_add).T], 'csr')\n",
    "\n",
    "def non_word_char_counter(doc):\n",
    "    '''Counts the number of non  characters in a string'''\n",
    "    count=len(re.findall('\\W', doc))\n",
    "    return count\n",
    "def digit_counter(doc):\n",
    "    '''\n",
    "    checks to see if a character is a number.\n",
    "    If true adds one to the counter or else it continues the loop\n",
    "    '''\n",
    "    count=0\n",
    "    for char in doc:\n",
    "        if char.isnumeric():\n",
    "            count+=1\n",
    "        else:continue\n",
    "    return count       "
   ]
  },
  {
   "cell_type": "code",
   "execution_count": 5,
   "metadata": {},
   "outputs": [],
   "source": [
    "#Converting the training and testing series to dataframes so the other features can be added for further processing\n",
    "x_train_df= X_train.to_frame()\n",
    "x_test_df=X_test.to_frame()"
   ]
  },
  {
   "cell_type": "code",
   "execution_count": 6,
   "metadata": {},
   "outputs": [],
   "source": [
    " #Creating the new columns\n",
    "#length_of_doc\n",
    "x_train_df['length_of_doc']= x_train_df['text'].apply(lambda x:len(x))\n",
    "x_test_df['length_of_doc']= x_test_df['text'].apply(lambda x:len(x))  \n",
    "\n",
    "#Non character counter\n",
    "x_train_df['non_word_char_count']= x_train_df['text'].apply(non_word_char_counter)\n",
    "x_test_df['non_word_char_count']= x_test_df['text'].apply(non_word_char_counter)  \n",
    "\n",
    "#Number counter\n",
    "x_train_df['digit_count']= x_train_df['text'].apply(digit_counter)\n",
    "x_test_df['digit_count']= x_test_df['text'].apply(digit_counter)  \n",
    "\n",
    "#Vectorization and transformation\n",
    "vect= CountVectorizer(analyzer='char_wb',ngram_range=(2,5)).fit(x_train_df['text'])\n",
    "x_train_transform= vect.transform(x_train_df['text'])\n",
    "x_test_transform= vect.transform(x_test_df['text'])\n",
    "\n",
    "#Adding up the features\n",
    "x_train_fin= add_feature(x_train_transform,[x_train_df['length_of_doc'],x_train_df['non_word_char_count'],x_train_df['digit_count']])\n",
    "x_test_fin= add_feature(x_test_transform,[x_test_df['length_of_doc'],x_test_df['non_word_char_count'],x_test_df['digit_count']])\n"
   ]
  },
  {
   "cell_type": "code",
   "execution_count": 9,
   "metadata": {},
   "outputs": [
    {
     "name": "stdout",
     "output_type": "stream",
     "text": [
      "This is the Area under the curve score 0.9951912466258084. This shows the model is a good fit and will be great at predicting whether or not an email is a spam\n"
     ]
    }
   ],
   "source": [
    "#Fitting the transformed features to a Logistics Regression model\n",
    "logreg= LogisticRegression(C=100,solver='liblinear',random_state=0).fit(x_train_fin,y_train)\n",
    "predictions= logreg.decision_function(x_test_fin)\n",
    "auc_score= roc_auc_score(y_test, predictions)\n",
    "print('This is the Area under the curve score {}. This shows the model is a good fit and will be great at predicting whether or not an email is a spam'.format(auc_score))"
   ]
  },
  {
   "cell_type": "code",
   "execution_count": 10,
   "metadata": {},
   "outputs": [
    {
     "name": "stdout",
     "output_type": "stream",
     "text": [
      "Words with the least weight in predicting whether or not the email is a spam ['. ' '..' '? ' ' i' ' y' ' go' ':)' ' h' ' ok' 'he']\n",
      "words with the biggest weight in predicting whether or not the email is a spam [' x' ' ch' ' a ' 'ar' 'ww' 'mob' 'xt' 'co' 'ne' 'non_word_char_count']\n"
     ]
    }
   ],
   "source": [
    " #Getting the features plus the newly added columns\n",
    "features= vect.get_feature_names_out() \n",
    "tot_feats= np.append(features,np.array(['length_of_doc', 'digit_count', 'non_word_char_count']))\n",
    "coeff= logreg.coef_\n",
    "#Sorting the coefficients by with their indicies\n",
    "sort_coef= coeff[0].argsort()\n",
    "\n",
    "small_features= tot_feats[sort_coef[:10]]\n",
    "large_features= tot_feats[sort_coef[-10:]]\n",
    "\n",
    "print('Words with the least weight in predicting whether or not the email is a spam {}'.format(small_features))\n",
    "print('words with the biggest weight in predicting whether or not the email is a spam {}'. format(large_features))"
   ]
  }
 ],
 "metadata": {
  "kernelspec": {
   "display_name": "Python 3.9.7 64-bit",
   "language": "python",
   "name": "python3"
  },
  "language_info": {
   "codemirror_mode": {
    "name": "ipython",
    "version": 3
   },
   "file_extension": ".py",
   "mimetype": "text/x-python",
   "name": "python",
   "nbconvert_exporter": "python",
   "pygments_lexer": "ipython3",
   "version": "3.9.7"
  },
  "orig_nbformat": 4,
  "vscode": {
   "interpreter": {
    "hash": "e67998156ea83e4a325ffbecb55a4d3b4b7e9af6f2214579e512edd97a0b1ec2"
   }
  }
 },
 "nbformat": 4,
 "nbformat_minor": 2
}
